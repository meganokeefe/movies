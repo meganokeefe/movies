{
 "cells": [
  {
   "cell_type": "markdown",
   "metadata": {},
   "source": [
    "### I have a clean data file!\n",
    "\n",
    "but it's very large."
   ]
  },
  {
   "cell_type": "code",
   "execution_count": 2,
   "metadata": {
    "collapsed": true
   },
   "outputs": [],
   "source": [
    "import pickle\n",
    "from collections import Counter\n",
    "import seaborn as sns\n",
    "import matplotlib.pyplot as plt\n",
    "import pandas as pd\n",
    "\n",
    "def from_pickle(fn):\n",
    "    pkl_file = open(fn, 'rb')\n",
    "    mydict = pickle.load(pkl_file)\n",
    "    pkl_file.close()\n",
    "    return mydict\n",
    "%matplotlib inline"
   ]
  },
  {
   "cell_type": "code",
   "execution_count": 3,
   "metadata": {
    "collapsed": true
   },
   "outputs": [],
   "source": [
    "d = from_pickle('films.pkl')"
   ]
  },
  {
   "cell_type": "markdown",
   "metadata": {},
   "source": [
    "How I formatted the data:\n",
    "\n",
    "- title\n",
    "- list of characters [charName, Gender, Actor, Age @ Filming]\n",
    "- countries list\n",
    "- release date\n",
    "- genres list\n",
    "- languages list\n",
    "- revenue\n",
    "- runtime, in minutes\n",
    "- summary"
   ]
  },
  {
   "cell_type": "code",
   "execution_count": 4,
   "metadata": {
    "collapsed": false
   },
   "outputs": [
    {
     "data": {
      "text/plain": [
       "{'chars': [['', 'M', 'Erik Estrada', '58'],\n",
       "  ['Nina', 'F', 'Tempestt Bledsoe', '34'],\n",
       "  ['Lola', 'F', 'Nadine Velazquez', '29'],\n",
       "  ['Marco', 'M', 'Mario Lpez', '34'],\n",
       "  ['', 'M', 'Mark Consuelos', '36']],\n",
       " 'countries': ['United States of America'],\n",
       " 'date': '2008-01-24',\n",
       " 'genres': ['Comedy'],\n",
       " 'languages': ['English Language'],\n",
       " 'revenue': '',\n",
       " 'runtime': '90.0',\n",
       " 'summary': \"Lola  attempts to gain her father's trust fund  by hiring a Hispanic husband, Bo , offering him $100,000 per year if he marries her. Bo accepts, and then departs from his Texas home and returns with Lola to her home in New Mexico. Lola finds out he is in fact Caucasian. Lola's best friend, Nina , and Bo's brother  join the trip, as does Bo's girlfriend, Nikki , and her clumsy friend, Dotty , in secret. When introduced to Bo, Lola's father, Victor , refuses to allow them to get married, until Bo convinces him by playing an antique guitar. In the mean time, Lola's ex-fianc, Marco , and his secret girlfriend, Simona , who is also Lola's sister trying to keep her from having the inheritance, plot against Lola in order to gain the trust fund for themselves. Throughout the course of the story, Lola and Bo actually fall for each other. However, after Simona discovers Bo and Lola have a plot of their own, she uses Nikki to ruin the plot. However, before Nikki could do any damage, Victor and Bo get into an argument, which has both Lola and her father kick Bo out. In response, Lola's ex-fianc is able to win back Lola's heart, but Lola only agrees for the money. Later that night, Nikki and Bo discover Simona and Marco's plot and are consequently held prisoner, so they may not warn anyone. However, Nikki's clumsy friend Dotty finds Nikki and Bo, frees them, and Bo is able to warn Lola. Still angry about the previous night, Lola kicks Bo out once more and proceeds to marry for the money. Fortunately for her, she trusts Bo's words and turns the tables on Simona and Marco, and also turns down the money from her father and departs, claiming that money ruined the family long before that day. She does not want the money if it means turning into a selfish and greedy person like her father.  At the end of the film, Bo is working as a bartender, where Lola manages to find him. They reconcile and show their love for each other once again, and they remain together and happy.\",\n",
       " 'title': 'Husband for Hire'}"
      ]
     },
     "execution_count": 4,
     "metadata": {},
     "output_type": "execute_result"
    }
   ],
   "source": [
    "d['15401493']"
   ]
  },
  {
   "cell_type": "code",
   "execution_count": 5,
   "metadata": {
    "collapsed": true
   },
   "outputs": [],
   "source": [
    "ditems = d.items()"
   ]
  },
  {
   "cell_type": "code",
   "execution_count": 6,
   "metadata": {
    "collapsed": false
   },
   "outputs": [],
   "source": [
    "#For looking up my favorite movies...\n",
    "def search_by_title(searchtitle):\n",
    "    return [d for d in ditems if searchtitle in d[1]['title']]\n",
    "    results"
   ]
  },
  {
   "cell_type": "code",
   "execution_count": 7,
   "metadata": {
    "collapsed": false
   },
   "outputs": [
    {
     "data": {
      "text/plain": [
       "('239587',\n",
       " {'chars': [['Bubbles', 'M', 'Stephen Root', '51'],\n",
       "   ['Deb / Flo', 'F', 'Vicki Lewis', '43'],\n",
       "   ['Darla', '', 'LuLu Ebeling', ''],\n",
       "   ['Squirt', 'M', 'Nicholas Bird', '8'],\n",
       "   ['Nigel', 'M', 'Geoffrey Rush', '51'],\n",
       "   ['Fish School', 'M', 'John Ratzenberger', '56'],\n",
       "   ['Gurgle', 'M', 'Austin Pendleton', '63'],\n",
       "   ['Sheldon', 'M', 'Erik Per Sullivan', '11'],\n",
       "   ['Bruce', 'M', 'Barry Humphries', '69'],\n",
       "   ['Gill', 'M', 'Willem Dafoe', '47'],\n",
       "   ['Crush', 'M', 'Andrew Stanton', '37'],\n",
       "   ['Marlin', 'M', 'Albert Brooks', '55'],\n",
       "   ['Mr. Ray', 'M', 'Bob Peterson', '42'],\n",
       "   ['Anchor', 'M', 'Eric Bana', '34'],\n",
       "   ['Chum', 'M', 'Bruce Spence', '57'],\n",
       "   ['Bloat', 'M', 'Brad Garrett', '43'],\n",
       "   ['Coral', 'F', 'Elizabeth Perkins', '42'],\n",
       "   ['Dentist', 'M', 'Bill Hunter', '63'],\n",
       "   ['Tad', '', 'Jordan Ranft', '11'],\n",
       "   ['Peach', 'F', 'Allison Janney', '43'],\n",
       "   ['Pearl', '', 'Erica Beck', '9'],\n",
       "   ['Jacques', 'M', 'Joe Ranft', '43'],\n",
       "   ['Nemo', 'M', 'Alexander Gould', '9'],\n",
       "   ['Dory', 'F', 'Ellen DeGeneres', '45']],\n",
       "  'countries': ['United States of America', 'Australia'],\n",
       "  'date': '2003-05-30',\n",
       "  'genres': ['Adventure',\n",
       "   \"Children's/Family\",\n",
       "   'Computer Animation',\n",
       "   'Animation',\n",
       "   \"Children's\",\n",
       "   'Adventure Comedy',\n",
       "   'Comedy',\n",
       "   'Family Film',\n",
       "   'Family-Oriented Adventure'],\n",
       "  'languages': ['English Language'],\n",
       "  'revenue': '921111197',\n",
       "  'runtime': '100.0',\n",
       "  'summary': 'Two clownfish, Marlin and his wife Coral are admiring their new home in the New Caledonia Barrier Reef and their clutch of eggs that are due to hatch in a few days. Suddenly, a barracuda attacks them, leaving Marlin unconscious before eating Coral and all but one of their eggs. Marlin names this egg Nemo, a name that Coral liked. The film then moves on to Nemo\\'s first day of school. Nemo has a tiny right fin, due to a minor injury to his egg from the barracuda attack, which limits his swimming ability. After Marlin embarrasses Nemo during a school field trip, Nemo disobeys his father and sneaks away from the reef towards a boat, resulting in him being captured by scuba divers. As the boat sails away, one of the divers accidentally knocks his diving mask into the water. While unsuccessfully attempting to save Nemo, Marlin meets Dory, a nave but good-hearted and optimistic Regal blue tang with short-term memory loss. While meeting three sharks on a fish-free diet, Bruce, a great white shark; Anchor, a hammerhead shark; and Chum, a mako shark, Marlin discovers the diver\\'s mask that was dropped from the boat and notices an address written on it. However, when he argues with Dory and accidentally gives her a nosebleed, the scent of blood causes Bruce to lose control of himself and attempt to eat Marlin and Dory. The two escape from Bruce but the mask falls into a trench in the deep sea. During a hazardous struggle with an anglerfish in the trench, Dory realizes she is able to read the address written on the mask, which leads to Sydney, Australia, and manages to remember it. After receiving directions to Sydney from a large school of moonfish, Marlin and Dory accidentally run into a bloom of jellyfish that nearly sting them to death; Marlin falls exhausted after the risky escape and wakes up to see a surf-cultured sea turtle named Crush, who takes Dory and him on the East Australian Current. In the current, Marlin reluctantly shares the details of his journey with a group of young sea turtles; his story spreads rapidly across the ocean through word of mouth and eventually finds Nemo in Sydney. Meanwhile, Nemo\\'s captor - P. Sherman, a dentist - places him into a fish tank in his office on Sydney Harbour. There, Nemo meets a group of aquarium fish called the \"Tank Gang\", led by a crafty and ambitious moorish idol named Gill. The \"Tank Gang\" includes Bloat, a puffer fish; Bubbles, a Yellow Tang; Peach, a starfish; Gurgle, a Royal gramma; Jacques, a pacific cleaner shrimp; and Deb, a Blacktailed Humbug. The fish are frightened to learn that the dentist plans to give Nemo to his niece, Darla. She is infamous for killing a goldfish given to her previously by constantly shaking the bag. In order to avoid this fate, Gill gives Nemo a role in an escape plan, which involves jamming the tank\\'s filter and forcing the dentist to remove the fish from the tank to clean it manually. The fish would be placed in plastic bags, at which point they would roll out the window and into the harbor. After a friendly pelican named Nigel visits with news of Marlin\\'s adventure, Nemo succeeds in jamming the filter, but the plan backfires when the dentist installs a new high-tech filter. Upon leaving the East Australian Current, Marlin and Dory become lost and are engulfed by a whale. Inside the whale\\'s immense mouth, Marlin desperately tries to escape while Dory communicates with it in whale-speak. In response, the whale carries them to Sydney Harbour and expels them through his blowhole. They are met by Nigel, who recognizes Marlin from the stories he has heard and rescues him and Dory from a flock of hungry seagulls by scooping them into his beak and taking them to the dentist\\'s office. By this time, Darla has arrived and the dentist is prepared to give Nemo to her. Nemo tries to play dead in hopes of saving himself, and, at the same time, Nigel arrives. Marlin sees Nemo and mistakes this act for the actual death of his son. Gill helps Nemo escape into a drain through a sink after a chaotic struggle. Overcome with despair, Marlin leaves Dory and begins to swim back home. Dory then loses her memory and becomes confused, but meets Nemo, who has reached the ocean through an underwater drainpipe. Dory\\'s memory is restored after she reads the word \"Sydney\" on a nearby drainpipe and, remembering her journey, she guides Nemo to Marlin. After the two joyfully reunite, Dory is caught in a fishing net with a school of grouper. Nemo bravely enters the net and directs the group to swim downward to break the net, reminiscent of a similar scenario that occurred in the fish tank earlier. The fish, including Dory, succeed in breaking the net and escape. After some days, Nemo leaves for school once more and Marlin who is no longer overprotective or doubtful of his son\\'s safety, proudly watches Nemo swim away into the distance. Back at the dentist\\'s office, the high-tech filter breaks down and The Tank Gang have escaped into the harbor. However, they realize that they are confined to the bags of water that the dentist put them into when cleaning the tank.',\n",
       "  'title': 'Finding Nemo'})"
      ]
     },
     "execution_count": 7,
     "metadata": {},
     "output_type": "execute_result"
    }
   ],
   "source": [
    "search_by_title(\"Finding Nemo\")[0]"
   ]
  },
  {
   "cell_type": "markdown",
   "metadata": {},
   "source": [
    "## Language representation across all films"
   ]
  },
  {
   "cell_type": "code",
   "execution_count": 8,
   "metadata": {
    "collapsed": false
   },
   "outputs": [],
   "source": [
    "languages = [item[1]['languages'] for item in ditems]"
   ]
  },
  {
   "cell_type": "code",
   "execution_count": 9,
   "metadata": {
    "collapsed": false
   },
   "outputs": [],
   "source": [
    "ls = [item for sublist in languages for item in sublist]"
   ]
  },
  {
   "cell_type": "code",
   "execution_count": 10,
   "metadata": {
    "collapsed": false
   },
   "outputs": [
    {
     "data": {
      "text/plain": [
       "['Italian Language',\n",
       " 'Tamil Language',\n",
       " 'Italian Language',\n",
       " 'Italian Language',\n",
       " 'English Language',\n",
       " 'English Language',\n",
       " 'Tamil Language',\n",
       " 'Japanese Language',\n",
       " 'English Language',\n",
       " 'German Language']"
      ]
     },
     "execution_count": 10,
     "metadata": {},
     "output_type": "execute_result"
    }
   ],
   "source": [
    "ls[:10]"
   ]
  },
  {
   "cell_type": "code",
   "execution_count": 11,
   "metadata": {
    "collapsed": false
   },
   "outputs": [
    {
     "data": {
      "text/plain": [
       "[('English Language', 40891),\n",
       " ('Hindi Language', 3744),\n",
       " ('Spanish Language', 3673),\n",
       " ('French Language', 3422),\n",
       " ('Silent film', 3183),\n",
       " ('Italian Language', 2531),\n",
       " ('Japanese Language', 2295),\n",
       " ('German Language', 2258),\n",
       " ('Tamil Language', 1896),\n",
       " ('Malayalam Language', 1448),\n",
       " ('Standard Mandarin', 1213),\n",
       " ('Telugu language', 1197),\n",
       " ('Russian Language', 1024),\n",
       " ('Cantonese', 876),\n",
       " ('Korean Language', 779),\n",
       " ('Dutch Language', 597),\n",
       " ('Swedish Language', 509),\n",
       " ('Arabic Language', 499),\n",
       " ('Standard Cantonese', 481),\n",
       " ('Czech Language', 478),\n",
       " ('Bengali Language', 457),\n",
       " ('Danish Language', 442),\n",
       " ('Portuguese Language', 398),\n",
       " ('Polish Language', 370),\n",
       " ('Urdu Language', 359),\n",
       " ('Tagalog language', 351),\n",
       " ('Kannada Language', 329),\n",
       " ('Mandarin Chinese', 325),\n",
       " ('Serbian language', 310),\n",
       " ('Hebrew Language', 266),\n",
       " ('Hungarian language', 241),\n",
       " ('Thai Language', 219),\n",
       " ('Persian Language', 209),\n",
       " ('Norwegian Language', 208),\n",
       " ('Turkish Language', 194),\n",
       " ('Greek Language', 187),\n",
       " ('Filipino language', 177),\n",
       " ('Punjabi language', 177),\n",
       " ('Finnish Language', 172),\n",
       " ('Chinese language', 129)]"
      ]
     },
     "execution_count": 11,
     "metadata": {},
     "output_type": "execute_result"
    }
   ],
   "source": [
    "counts = Counter(ls)\n",
    "counts.most_common(40)"
   ]
  },
  {
   "cell_type": "markdown",
   "metadata": {},
   "source": [
    "## Genre representation across all films "
   ]
  },
  {
   "cell_type": "code",
   "execution_count": 12,
   "metadata": {
    "collapsed": true
   },
   "outputs": [],
   "source": [
    "genres = [item[1]['genres'] for item in ditems]\n",
    "gs = [item for sublist in genres for item in sublist]"
   ]
  },
  {
   "cell_type": "code",
   "execution_count": 13,
   "metadata": {
    "collapsed": false
   },
   "outputs": [
    {
     "data": {
      "text/plain": [
       "[('Drama', 34007),\n",
       " ('Comedy', 16349),\n",
       " ('Romance Film', 10234),\n",
       " ('Black-and-white', 9094),\n",
       " ('Action', 8798),\n",
       " ('Thriller', 8744),\n",
       " ('Short Film', 8141),\n",
       " ('World cinema', 7155),\n",
       " ('Crime Fiction', 6948),\n",
       " ('Indie', 6897),\n",
       " ('Documentary', 5630),\n",
       " ('Horror', 5280),\n",
       " ('Silent film', 5250),\n",
       " ('Adventure', 4963),\n",
       " ('Family Film', 4598),\n",
       " ('Action/Adventure', 4561),\n",
       " ('Comedy film', 4362),\n",
       " ('Musical', 4160),\n",
       " ('Animation', 3534),\n",
       " ('Romantic drama', 3372),\n",
       " ('Mystery', 3195),\n",
       " ('Science Fiction', 3052),\n",
       " ('Fantasy', 2820),\n",
       " ('Romantic comedy', 2680),\n",
       " ('War film', 2652),\n",
       " ('Japanese Movies', 2322),\n",
       " ('Western', 2226),\n",
       " ('Crime Thriller', 2122),\n",
       " ('Period piece', 1758),\n",
       " ('Comedy-drama', 1720),\n",
       " ('Film adaptation', 1531),\n",
       " ('Chinese Movies', 1525),\n",
       " ('Biography', 1392),\n",
       " ('Psychological thriller', 1331),\n",
       " ('Bollywood', 1321),\n",
       " ('Sports', 1206),\n",
       " ('Biographical film', 1198),\n",
       " ('LGBT', 1163),\n",
       " ('Music', 1088),\n",
       " ('Family Drama', 1043)]"
      ]
     },
     "execution_count": 13,
     "metadata": {},
     "output_type": "execute_result"
    }
   ],
   "source": [
    "gcounts = Counter(gs)\n",
    "gcounts.most_common(40)"
   ]
  },
  {
   "cell_type": "markdown",
   "metadata": {},
   "source": [
    "### A Look at LGBT Films"
   ]
  },
  {
   "cell_type": "code",
   "execution_count": 14,
   "metadata": {
    "collapsed": true
   },
   "outputs": [],
   "source": [
    "lgbt = [f for f in ditems if 'LGBT' in f[1]['genres']]"
   ]
  },
  {
   "cell_type": "code",
   "execution_count": 15,
   "metadata": {
    "collapsed": false
   },
   "outputs": [
    {
     "data": {
      "text/plain": [
       "1163"
      ]
     },
     "execution_count": 15,
     "metadata": {},
     "output_type": "execute_result"
    }
   ],
   "source": [
    "len(lgbt)"
   ]
  },
  {
   "cell_type": "code",
   "execution_count": 16,
   "metadata": {
    "collapsed": false
   },
   "outputs": [],
   "source": [
    "#plot release dates\n",
    "dates = [item[1]['date'] for item in lgbt]"
   ]
  },
  {
   "cell_type": "code",
   "execution_count": 28,
   "metadata": {
    "collapsed": false
   },
   "outputs": [],
   "source": [
    "def getDates(subset):\n",
    "    dates = [item[1]['date'] for item in subset]\n",
    "    print dates\n",
    "    cleandates = []\n",
    "    for d in dates:\n",
    "        if d!=\"\":\n",
    "            cleandates.append(d[:4])\n",
    "    return Counter(cleandates)"
   ]
  },
  {
   "cell_type": "code",
   "execution_count": 30,
   "metadata": {
    "collapsed": false
   },
   "outputs": [
    {
     "name": "stdout",
     "output_type": "stream",
     "text": [
      "['2008', '1977-08-12', '2007', '1982-05', '2009-10-21', '2006-10-13', '1976-08-12', '', '2007-02-23', '2000-07-14', '2002', '', '1997-09-10', '1995', '1998', '2003-02-28', '2008-07-25', '2010-06-12', '2004-05-08', '2000', '2000-03-03', '1996-06-07', '2004-11-24', '1961', '1998-10-10', '2008-01', '1999', '2006', '1991-02-14', '2011-05-14', '', '2011-09-02', '1991', '2007-08-31', '2004', '1989', '1994', '1947', '2008', '1995', '2006-04-07', '1988', '1953', '2002', '2001-12-14', '2005', '2010-01-29', '2002', '1981-07-17', '2004-11-26', '2001-12-09', '1970-03-17', '1997', '2004-11-12', '2007', '2008', '1998', '2001', '1944-02-10', '1979-09-13', '2003', '1994-05-20', '', '2007', '1996-08-31', '1999', '1995-12-16', '2006-04-26', '2004-03-19', '2004', '2008-04-18', '1999-11-26', '2004-04-16', '2006', '1999-02-14', '2003', '2006', '1985-12-18', '1982-02-12', '2009-03-27', '2000', '2001', '2006-10-24', '2000', '1933', '1929-10-15', '2004', '1980', '2007', '2010-08-13', '2007', '2006', '2007-11-02', '1996', '1995-10-27', '2007-03-17', '2004-12-17', '2002-09-01', '1984', '1971-03-01', '1993-02', '1963-02-25', '1983-03-25', '', '2006', '1997', '1984-03-09', '2004', '1988-12-14', '2009-10-04', '1975', '1993-11-24', '1995-09-13', '2006-07-05', '2009', '2006', '1997-11-21', '2006', '2006', '2003-12-10', '2004', '1976', '1998', '1998', '2009-12-04', '2007', '1989', '2001', '2009', '1964', '1967-12-13', '2004', '2000', '2000-08-25', '2006-11-24', '2004', '1977', '1991', '2005-05-30', '1999-02-11', '2006', '1987-01', '1998', '2007-09-13', '1980-01-18', '2003-02-17', '2009', '2009-07-14', '1994', '2006', '2004-11-10', '1996', '1986-05-28', '1985-10', '1997-01-01', '1991', '1997', '2001-11-16', '2005-09-29', '1970', '2000', '2004-10-14', '2005', '2000-10-03', '2001', '2001', '2001-07-21', '2003-02-21', '2000-01-28', '1982-03-16', '2004', '2004', '1997', '1962-06-06', '1996-03-22', '2006', '1998', '1982-07-07', '1996-11-21', '1994-05-16', '1997', '2008', '1992', '2004-09-04', '2005-02-04', '1998-09-11', '1999-01-27', '2004', '2010-11-12', '1956-09-27', '2006', '2005-12-16', '2002', '1993', '2006', '2003', '1993', '1999-11-19', '1996-11-06', '1983-12-06', '1995-06-09', '1930-11-14', '2009-03-27', '2006', '2007', '2000', '2003-09-12', '1999-11-05', '2005-02-18', '1998-01-31', '2006-10-13', '', '1992', '2004', '2007', '2000', '2010-05-15', '1998', '1997', '2011-05-22', '2006-10-13', '2005', '1950', '2012-02-29', '2009', '1997-05', '1977-05-27', '1974-10-04', '2005-05-22', '1997-02', '1987-09-11', '2009', '2006-11-10', '1980-11-01', '1986-02', '1978-04-28', '1997-04-20', '1995', '2010-12-16', '2003', '2007-11-21', '2004', '2009-02-11', '2010-03-11', '2005-08-27', '2005-11-04', '2003-10-07', '1999-04-17', '1997-08-26', '2002-07-12', '1998', '2002-04-27', '1995-12-26', '2003', '1998-07-24', '2004-01-17', '1991', '1999', '1994', '2003-06-13', '2007-09-10', '1999', '2001', '2004-01-21', '1983-04-29', '', '2003', '1997', '2008', '2011-06-22', '1975', '2004-06-11', '2004', '1965', '2004-09-17', '1969-03-14', '2002', '2004-05-13', '1981-12-24', '2004-07-30', '1994', '2001', '2004-02-04', '2000-01-22', '1996-03-22', '1989-10-12', '1985', '2008', '2006', '1999', '2004-06-26', '2006-06-21', '1984-12-14', '1998', '2006', '2004-09-09', '1991', '1998-04-17', '2006', '2004', '1991', '2007', '2006-09-08', '1995', '2000-09-08', '1983', '2002', '2008', '2004-10', '2005', '1986-06-21', '2000', '1919-06-30', '1992-09-25', '2010-01-30', '2006-04-28', '2010-01', '2006-12-25', '1971', '2010-05-16', '2009-09-11', '1994-12-02', '2003', '1980-03-20', '1975', '2007', '1970', '1992', '2000-05', '2005-12-02', '1974', '2010', '1999', '1996', '1992', '2007', '2002', '2002', '2001-07-20', '2003', '2009', '2002', '1998', '1968', '2006', '1914', '2009', '2003', '1979-03-14', '1991', '2010-03-17', '2009-11-13', '2009-04-01', '2007', '2003-03-21', '1996', '2010-01-22', '2007-01-21', '1990-03-07', '1969', '2006-06-04', '1994-10-14', '2006', '2010-06-26', '1988', '2000', '1996', '1998', '1992', '1982-07-23', '2012-04', '1997', '2005-06-17', '1986', '1999-12-24', '1997', '1969-07-30', '2004', '2011-02-20', '2007', '1999', '2005-05-12', '1985-09-07', '2005-06-11', '2002', '2009-09-05', '2007', '1997', '2007', '2009', '2009', '2001-05-16', '1981', '2009-05-14', '2007-02-02', '2007', '2006-11-17', '2008', '2009-10-19', '2001', '2008', '1996', '1912-02-28', '2003', '1995-07-19', '2008', '2006', '1993-01-27', '2005', '2000-03-05', '1980-07-08', '2006', '1979-08-14', '1992', '1969-09-03', '2002', '1992', '1995', '2005', '2009-03', '2002-08-23', '1994-02', '1995-02-08', '1994-02-04', '2010-09', '2003-11-16', '1968-10-30', '2005-05-15', '2007', '2005-12-09', '2001-01-11', '1997', '2010-06', '1998-06-14', '1976-06-04', '2002-09-20', '2010-07-30', '1996', '2004', '2004-04-16', '1995', '2006', '2008', '2009', '2006-09-20', '2009', '2005', '2005-05-13', '1986-04-23', '2008', '1995', '1976-10-07', '2001', '1990', '2008-10-28', '2003', '1995', '1983-09-16', '2007', '1995', '1994-04-08', '2005-05-26', '', '2005', '1987', '1998-08-13', '1987-02-13', '2008', '2003', '2011-07-29', '1995', '2004-04-06', '2000', '2008', '2002', '2000-06-01', '1968-12-20', '2006-01-14', '1998-09-11', '2003-09-19', '2001', '2005', '2010-04-24', '2003', '1983', '1996-05-05', '2005', '2007-05-05', '2011-04-29', '2010-02-13', '2006-01-13', '2001-01-26', '1998-10-23', '1987', '1994', '1996-12-10', '2008-03-22', '2005-11-13', '1968', '2002-01-11', '1971', '2011-07-01', '1996-06-22', '2007', '1985-05-13', '2005', '1989-10', '2012-01-21', '1978-02-23', '1998', '1999-06-10', '2008', '2011-01', '2005', '1931-05-28', '1989', '2000', '1993-04-30', '2010-04-24', '1991-01', '2004-04', '2008', '2000', '2009', '1998-01-21', '1996', '2002', '2011-04-01', '2007-09-27', '2002', '2002', '1996-05-01', '1964', '2002-01-15', '2004', '2001', '1991', '2004', '2002', '2005-05-14', '1994', '2001-11-16', '2003', '1984', '2004-10-19', '1981-05-05', '2007-10', '2004', '2001-08-05', '2003', '2002-11-12', '2008', '2006-01-20', '2003-07-25', '2010-01-21', '1999-10-01', '2001-01-19', '2004', '2001', '2008', '1998', '2007-08-09', '2007-05-20', '1995', '1997-01-23', '1995-09-08', '2007', '2004', '2004-10-06', '1984-07-13', '1984-11-01', '1995-12-08', '1994', '1994', '1998-05', '2000-09-08', '2004-06-01', '1993-05-27', '2007', '2008', '', '2010-01-24', '2006', '2009-02-09', '2009-09-08', '2009-07', '2007', '1924', '2007', '2009-08-05', '1997', '1972-02-13', '2012-02-11', '1997', '2004-07-23', '2010-09-12', '2009', '2001', '1985', '2001', '1994', '1993', '1961-12-19', '2005-05-19', '2009', '1998', '1985', '2009', '2009', '2001', '1972-10-05', '2000-09-22', '1998-04-17', '1995-04-21', '1997', '1994-04-13', '1970-03-27', '1992-01', '2000-12-31', '2005', '2009', '1993-02-28', '2009', '2002-09-27', '2002', '2005', '1993', '2001', '2002-10-13', '2001', '1996-05-17', '2008-09', '2007', '2011', '2003-10-31', '2000-03-08', '1928-10-24', '1983', '1958-09-18', '2001-07-20', '2004', '2003', '2003-09-05', '2011-02-20', '1987-09-18', '2003', '2009', '2007', '1998-08-28', '2010-02-19', '2005-02-14', '2008', '1996', '1972-10-06', '2009-01-18', '1988-12-22', '1994-09-12', '2009-07-19', '1951', '1999', '2002-04-05', '2006-11-03', '2008', '2009-04-24', '1996', '1980', '1989-06-03', '1987-04-17', '1986-06-19', '1999-05-14', '2010-01', '2005-09-09', '1971', '2006-06-23', '2001', '2005-04-29', '2005', '2008', '2002', '2009', '2003-05-18', '1999-04-08', '2004-05-06', '2005-05-13', '1986-02-19', '2002-07-10', '2010', '2000', '2003-05-31', '2006', '2010-06-25', '1995-01-11', '2008', '1935', '1993-06-01', '2001', '2007-04-05', '1994-09-23', '1997-12-19', '2006', '1986', '1976', '2009', '1999', '2005', '1999-10', '2009-08-29', '1999-05-15', '2001', '2000', '2005-12-16', '2007-07', '1995', '1997', '2005-02-12', '1961-08', '2010-06-19', '1916', '2011-09-16', '1970-10-05', '2008-02-20', '1997', '2008', '2010-09-21', '1998', '1993', '1956-12-25', '1998', '1985', '2001-05-18', '2001-11-02', '2006-06-23', '', '1947', '2006', '1972-07-30', '1998', '2010-09-11', '2004-06-16', '2002-05-25', '2005', '2006-08-04', '2007', '2006', '2005', '1968', '2010-04-24', '2001-01-20', '2008', '', '1995-02-03', '2000', '2009-10-29', '1998-03-20', '2006-04-06', '2011-04-10', '2001', '1980-11', '2011-11-03', '2006-08-04', '2003', '2007', '1998-09-25', '2009-12-10', '2007-06-22', '1970-07-27', '2002-03-15', '2008', '1992', '1977-12-02', '2000', '2003-09-26', '2000', '2005-05-06', '2003', '1982-11-17', '2006', '2008', '2003', '1999-12-24', '1992-05-22', '1988', '1998-04-24', '1992-03-20', '2007', '1998-05-22', '1968', '1998-01-20', '', '2002-03-13', '1991-08', '1996-09-06', '1995-10-13', '2003', '2003', '1982', '2007-03-13', '2006', '1997-06-21', '1995', '2002-05-19', '1996-04-12', '1983-01-18', '2002', '2008', '2003', '1999-09-08', '2007-11-22', '2007', '1958-08-28', '2004-10-07', '2005-01', '2008', '1985-11-11', '1992', '1985-08-28', '2004-11-16', '2002', '1992', '2008', '2009', '1997-05-09', '2003-01-17', '1979', '1995', '2001', '2005', '', '2009-04-25', '2004', '1996-11-14', '2002-10-11', '1995-02-06', '2002-08-01', '1995', '2006', '1989', '2005-06-10', '1948', '2004-01-30', '2004-03-10', '2003', '1996-08-23', '2007', '2012-04-20', '2011-05-16', '2007-08-08', '1996', '2005', '1995-12-22', '1982-03-19', '2003-05-16', '1994', '2002', '', '2000-01-29', '2008', '2010-04', '2005', '2007', '2004-06-23', '2004-09-02', '1973', '2006-02-13', '1950-05-19', '1987', '1997', '1968', '2007', '2009-09-25', '1991', '2009-05-17', '2005-01-20', '2006', '1999', '2005-06-10', '2005', '2006-08-31', '2003-03', '1997', '2010-07-18', '1979-04-14', '2009-05-18', '1978', '2004-04-22', '1969', '1999', '1997-09-11', '1987', '2011-08-22', '2007', '2009-02-09', '1998', '2000-02-22', '', '2004-01-19', '2005-06-19', '2004-11-08', '1992-09-02', '2003', '1996', '2004', '2001', '2004-10-22', '1997-04-29', '2007', '2006', '2004', '2006', '1995-10-04', '2009-08-08', '1988', '1989', '2005', '2003', '2008-11-20', '2006-02-02', '2000', '1994-04-01', '1999', '2008-09-12', '1998', '2003-09-07', '2001-04-06', '2011-04-21', '2004', '2007-05-15', '2009-09-23', '1962-12-10', '2010-02-15', '2003', '1997', '2007-07-12', '1983-04-06', '1965', '2003', '2004', '2004-05-22', '1994-09-10', '2004-10-15', '2009-01-19', '2005', '2009', '2005-09-25', '1973-03-07', '2003', '1997-06-06', '2008-09-05', '1975', '1993', '1997', '1994', '1996', '1974', '1984-06', '2008-02-15', '2000', '2006', '1994', '2002-09-09', '2009-03-11', '2005-11-18', '2006-05-20', '2003', '2003', '1983', '1967-10-13', '2008', '1978', '1996', '2002', '2005-10-23', '2007', '1994-09-12', '1964-09-04', '2000', '2010-08-07', '1999-07-16', '1987', '2000-01-26', '1993', '2006-08-10', '1985', '1996', '2002', '1973', '1982-09-29', '2006', '1941-10-03', '2002', '1990', '2002-04-12', '2003', '2006', '1997-04-17', '2009-05-08', '2000', '1991-09-26', '1995', '1995', '2005-11-16', '1980-05-16', '2000', '2007', '2005', '1998-05-21', '2000', '1978-08-31', '1999', '2007-02-14', '2008', '2007-07-13', '1966-11-08', '2007', '2005-11-23', '2001-01-17', '1997', '2004', '1996-03-08', '2005-11-04', '2009', '1964', '2004', '1971-12', '1997', '2012-03-08', '1980-02-08', '2000-01-22', '2004', '2007', '2005-05-27', '2011-07-02', '2007-12-07', '2000', '2010', '1998', '2001-10-29', '1985', '2006', '2004-08-04', '2009-11-12', '2005', '1991', '2007', '2008', '1999', '1966-07-25', '2003', '1985-09-13', '2011-01-31', '2006-04-28', '2006-11-16', '', '2011-01-31', '2004', '1976-02-04', '2004', '2008-02-10', '2000-05-04', '1998-12-18', '2008', '2002-03-19', '1993', '2002-07-21', '2004', '2006', '1990', '2009', '2002-12-27', '2006', '1966-09-15', '1995', '1998', '2004-09-12', '1999-09-10', '1991-12-27', '2005', '', '1993-09-11', '2010-01-29', '1978-06-16', '1978', '2006-10-13', '1997-01-25', '2002-01-10', '1982', '2001-06-15', '2000-02', '2006', '2002-01-19', '2003-02-07', '1983-12-16', '1968', '1998-01-21', '1995', '2004', '2008-06', '2000-01-28', '1988', '1994', '2003-10-24', '1998', '2000', '2007', '2003', '1983-12-14', '1984', '2004-10-28', '2006', '1994', '1982', '1982-04-30', '2009', '1993', '2004-05-22', '1999-08-04', '1970-06-24', '1987-12-18', '2006', '2000', '1997-05', '2007', '2006', '2005', '1991-10-31', '1998-08', '2008', '1990', '1997', '1998-09-16', '2003', '1994', '2001-08-08', '2004-04-20', '1977-11', '2005', '2000-11-11', '1998-06-08', '2005-04-24', '1997-08-13', '1994', '2003', '1975-08-08', '2005-03-25', '2005', '2009', '1964-01', '1999-10-22', '2000', '1990-10-05', '2005', '2009', '1994-07-28', '1998-01-21', '2008', '1975', '1995', '1992-01', '2006-05-15', '2008-05-20', '2009', '1963', '2004-04-02']\n"
     ]
    }
   ],
   "source": [
    "dts = getDates(lgbt)"
   ]
  },
  {
   "cell_type": "code",
   "execution_count": 27,
   "metadata": {
    "collapsed": true
   },
   "outputs": [],
   "source": [
    "dts"
   ]
  },
  {
   "cell_type": "code",
   "execution_count": 23,
   "metadata": {
    "collapsed": false
   },
   "outputs": [
    {
     "ename": "TypeError",
     "evalue": "object of type 'NoneType' has no len()",
     "output_type": "error",
     "traceback": [
      "\u001b[0;31m---------------------------------------------------------------------------\u001b[0m",
      "\u001b[0;31mTypeError\u001b[0m                                 Traceback (most recent call last)",
      "\u001b[0;32m<ipython-input-23-fd66b6dd687e>\u001b[0m in \u001b[0;36m<module>\u001b[0;34m()\u001b[0m\n\u001b[0;32m----> 1\u001b[0;31m \u001b[0mlgbt_dates\u001b[0m \u001b[0;34m=\u001b[0m \u001b[0mpd\u001b[0m\u001b[0;34m.\u001b[0m\u001b[0mDataFrame\u001b[0m\u001b[0;34m.\u001b[0m\u001b[0mfrom_dict\u001b[0m\u001b[0;34m(\u001b[0m\u001b[0mdts\u001b[0m\u001b[0;34m,\u001b[0m \u001b[0morient\u001b[0m\u001b[0;34m=\u001b[0m\u001b[0;34m'index'\u001b[0m\u001b[0;34m)\u001b[0m\u001b[0;34m.\u001b[0m\u001b[0mreset_index\u001b[0m\u001b[0;34m(\u001b[0m\u001b[0;34m)\u001b[0m\u001b[0;34m\u001b[0m\u001b[0m\n\u001b[0m\u001b[1;32m      2\u001b[0m \u001b[0mlgbt_dates\u001b[0m\u001b[0;34m.\u001b[0m\u001b[0mcolumns\u001b[0m \u001b[0;34m=\u001b[0m \u001b[0;34m[\u001b[0m\u001b[0;34m\"year\"\u001b[0m\u001b[0;34m,\u001b[0m \u001b[0;34m\"count\"\u001b[0m\u001b[0;34m]\u001b[0m\u001b[0;34m\u001b[0m\u001b[0m\n",
      "\u001b[0;32m/Library/Python/2.7/site-packages/pandas/core/frame.pyc\u001b[0m in \u001b[0;36mfrom_dict\u001b[0;34m(cls, data, orient, dtype)\u001b[0m\n\u001b[1;32m    793\u001b[0m         \u001b[0morient\u001b[0m \u001b[0;34m=\u001b[0m \u001b[0morient\u001b[0m\u001b[0;34m.\u001b[0m\u001b[0mlower\u001b[0m\u001b[0;34m(\u001b[0m\u001b[0;34m)\u001b[0m\u001b[0;34m\u001b[0m\u001b[0m\n\u001b[1;32m    794\u001b[0m         \u001b[0;32mif\u001b[0m \u001b[0morient\u001b[0m \u001b[0;34m==\u001b[0m \u001b[0;34m'index'\u001b[0m\u001b[0;34m:\u001b[0m\u001b[0;34m\u001b[0m\u001b[0m\n\u001b[0;32m--> 795\u001b[0;31m             \u001b[0;32mif\u001b[0m \u001b[0mlen\u001b[0m\u001b[0;34m(\u001b[0m\u001b[0mdata\u001b[0m\u001b[0;34m)\u001b[0m \u001b[0;34m>\u001b[0m \u001b[0;36m0\u001b[0m\u001b[0;34m:\u001b[0m\u001b[0;34m\u001b[0m\u001b[0m\n\u001b[0m\u001b[1;32m    796\u001b[0m                 \u001b[0;31m# TODO speed up Series case\u001b[0m\u001b[0;34m\u001b[0m\u001b[0;34m\u001b[0m\u001b[0m\n\u001b[1;32m    797\u001b[0m                 \u001b[0;32mif\u001b[0m \u001b[0misinstance\u001b[0m\u001b[0;34m(\u001b[0m\u001b[0mlist\u001b[0m\u001b[0;34m(\u001b[0m\u001b[0mdata\u001b[0m\u001b[0;34m.\u001b[0m\u001b[0mvalues\u001b[0m\u001b[0;34m(\u001b[0m\u001b[0;34m)\u001b[0m\u001b[0;34m)\u001b[0m\u001b[0;34m[\u001b[0m\u001b[0;36m0\u001b[0m\u001b[0;34m]\u001b[0m\u001b[0;34m,\u001b[0m \u001b[0;34m(\u001b[0m\u001b[0mSeries\u001b[0m\u001b[0;34m,\u001b[0m \u001b[0mdict\u001b[0m\u001b[0;34m)\u001b[0m\u001b[0;34m)\u001b[0m\u001b[0;34m:\u001b[0m\u001b[0;34m\u001b[0m\u001b[0m\n",
      "\u001b[0;31mTypeError\u001b[0m: object of type 'NoneType' has no len()"
     ]
    }
   ],
   "source": [
    "lgbt_dates = pd.DataFrame.from_dict(dts, orient='index').reset_index()\n",
    "lgbt_dates.columns = [\"year\", \"count\"]"
   ]
  },
  {
   "cell_type": "code",
   "execution_count": 21,
   "metadata": {
    "collapsed": false
   },
   "outputs": [
    {
     "ename": "NameError",
     "evalue": "name 'lgbt_dates' is not defined",
     "output_type": "error",
     "traceback": [
      "\u001b[0;31m---------------------------------------------------------------------------\u001b[0m",
      "\u001b[0;31mNameError\u001b[0m                                 Traceback (most recent call last)",
      "\u001b[0;32m<ipython-input-21-9e3e4471c655>\u001b[0m in \u001b[0;36m<module>\u001b[0;34m()\u001b[0m\n\u001b[1;32m      1\u001b[0m \u001b[0mplt\u001b[0m\u001b[0;34m.\u001b[0m\u001b[0mfigure\u001b[0m\u001b[0;34m(\u001b[0m\u001b[0mfigsize\u001b[0m\u001b[0;34m=\u001b[0m\u001b[0;34m(\u001b[0m\u001b[0;36m20\u001b[0m\u001b[0;34m,\u001b[0m\u001b[0;36m10\u001b[0m\u001b[0;34m)\u001b[0m\u001b[0;34m)\u001b[0m\u001b[0;34m\u001b[0m\u001b[0m\n\u001b[0;32m----> 2\u001b[0;31m \u001b[0max\u001b[0m \u001b[0;34m=\u001b[0m \u001b[0msns\u001b[0m\u001b[0;34m.\u001b[0m\u001b[0mpointplot\u001b[0m\u001b[0;34m(\u001b[0m\u001b[0mx\u001b[0m\u001b[0;34m=\u001b[0m\u001b[0;34m\"year\"\u001b[0m\u001b[0;34m,\u001b[0m \u001b[0my\u001b[0m\u001b[0;34m=\u001b[0m\u001b[0;34m\"count\"\u001b[0m\u001b[0;34m,\u001b[0m \u001b[0mdata\u001b[0m\u001b[0;34m=\u001b[0m\u001b[0mlgbt_dates\u001b[0m\u001b[0;34m)\u001b[0m\u001b[0;34m\u001b[0m\u001b[0m\n\u001b[0m",
      "\u001b[0;31mNameError\u001b[0m: name 'lgbt_dates' is not defined"
     ]
    },
    {
     "data": {
      "text/plain": [
       "<matplotlib.figure.Figure at 0x1233f9a90>"
      ]
     },
     "metadata": {},
     "output_type": "display_data"
    }
   ],
   "source": [
    "plt.figure(figsize=(20,10))\n",
    "ax = sns.pointplot(x=\"year\", y=\"count\", data=lgbt_dates)"
   ]
  },
  {
   "cell_type": "code",
   "execution_count": 42,
   "metadata": {
    "collapsed": false
   },
   "outputs": [
    {
     "data": {
      "text/plain": [
       "Counter({'1912': 1,\n",
       "         '1914': 1,\n",
       "         '1916': 1,\n",
       "         '1919': 1,\n",
       "         '1924': 1,\n",
       "         '1928': 1,\n",
       "         '1929': 1,\n",
       "         '1930': 1,\n",
       "         '1931': 1,\n",
       "         '1933': 1,\n",
       "         '1935': 1,\n",
       "         '1941': 1,\n",
       "         '1944': 1,\n",
       "         '1947': 2,\n",
       "         '1948': 1,\n",
       "         '1950': 2,\n",
       "         '1951': 1,\n",
       "         '1953': 1,\n",
       "         '1956': 2,\n",
       "         '1958': 2,\n",
       "         '1961': 3,\n",
       "         '1962': 2,\n",
       "         '1963': 2,\n",
       "         '1964': 5,\n",
       "         '1965': 2,\n",
       "         '1966': 3,\n",
       "         '1967': 2,\n",
       "         '1968': 8,\n",
       "         '1969': 5,\n",
       "         '1970': 7,\n",
       "         '1971': 5,\n",
       "         '1972': 4,\n",
       "         '1973': 3,\n",
       "         '1974': 3,\n",
       "         '1975': 6,\n",
       "         '1976': 6,\n",
       "         '1977': 5,\n",
       "         '1978': 7,\n",
       "         '1979': 5,\n",
       "         '1980': 9,\n",
       "         '1981': 4,\n",
       "         '1982': 12,\n",
       "         '1983': 12,\n",
       "         '1984': 8,\n",
       "         '1985': 13,\n",
       "         '1986': 8,\n",
       "         '1987': 11,\n",
       "         '1988': 7,\n",
       "         '1989': 8,\n",
       "         '1990': 6,\n",
       "         '1991': 16,\n",
       "         '1992': 16,\n",
       "         '1993': 17,\n",
       "         '1994': 30,\n",
       "         '1995': 36,\n",
       "         '1996': 31,\n",
       "         '1997': 41,\n",
       "         '1998': 47,\n",
       "         '1999': 34,\n",
       "         '2000': 49,\n",
       "         '2001': 43,\n",
       "         '2002': 49,\n",
       "         '2003': 58,\n",
       "         '2004': 81,\n",
       "         '2005': 71,\n",
       "         '2006': 77,\n",
       "         '2007': 66,\n",
       "         '2008': 51,\n",
       "         '2009': 64,\n",
       "         '2010': 37,\n",
       "         '2011': 21,\n",
       "         '2012': 6})"
      ]
     },
     "execution_count": 42,
     "metadata": {},
     "output_type": "execute_result"
    }
   ],
   "source": [
    "dts"
   ]
  },
  {
   "cell_type": "code",
   "execution_count": 63,
   "metadata": {
    "collapsed": false
   },
   "outputs": [],
   "source": [
    "#Generate LGBT films bar chart\n",
    "#1950 to 2012\n",
    "startDate = 1950\n",
    "endDate = 2012\n",
    "dates = xrange(startDate, endDate)\n",
    "counts = []\n",
    "for d in dates:\n",
    "    if dts[str(d)]:\n",
    "        counts.append(dts[str(d)])\n",
    "    else:\n",
    "        counts.append(0)"
   ]
  },
  {
   "cell_type": "code",
   "execution_count": 65,
   "metadata": {
    "collapsed": false
   },
   "outputs": [
    {
     "name": "stdout",
     "output_type": "stream",
     "text": [
      "[2, 1, 0, 1, 0, 0, 2, 0, 2, 0, 0, 3, 2, 2, 5, 2, 3, 2, 8, 5, 7, 5, 4, 3, 3, 6, 6, 5, 7, 5, 9, 4, 12, 12, 8, 13, 8, 11, 7, 8, 6, 16, 16, 17, 30, 36, 31, 41, 47, 34, 49, 43, 49, 58, 81, 71, 77, 66, 51, 64, 37, 21]\n"
     ]
    }
   ],
   "source": [
    "print counts"
   ]
  },
  {
   "cell_type": "code",
   "execution_count": null,
   "metadata": {
    "collapsed": true
   },
   "outputs": [],
   "source": []
  }
 ],
 "metadata": {
  "kernelspec": {
   "display_name": "Python 2",
   "language": "python",
   "name": "python2"
  },
  "language_info": {
   "codemirror_mode": {
    "name": "ipython",
    "version": 2
   },
   "file_extension": ".py",
   "mimetype": "text/x-python",
   "name": "python",
   "nbconvert_exporter": "python",
   "pygments_lexer": "ipython2",
   "version": "2.7.10"
  }
 },
 "nbformat": 4,
 "nbformat_minor": 0
}
