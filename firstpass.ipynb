{
 "cells": [
  {
   "cell_type": "markdown",
   "metadata": {},
   "source": [
    "### I have a clean data file!\n",
    "\n",
    "but it's very large."
   ]
  },
  {
   "cell_type": "code",
   "execution_count": 78,
   "metadata": {
    "collapsed": true
   },
   "outputs": [],
   "source": [
    "import pickle\n",
    "from collections import Counter\n",
    "import seaborn as sns\n",
    "import matplotlib.pyplot as plt\n",
    "import pandas as pd\n",
    "\n",
    "def from_pickle(fn):\n",
    "    pkl_file = open(fn, 'rb')\n",
    "    mydict = pickle.load(pkl_file)\n",
    "    pkl_file.close()\n",
    "    return mydict\n",
    "%matplotlib inline"
   ]
  },
  {
   "cell_type": "code",
   "execution_count": 2,
   "metadata": {
    "collapsed": true
   },
   "outputs": [],
   "source": [
    "d = from_pickle('films.pkl')"
   ]
  },
  {
   "cell_type": "markdown",
   "metadata": {},
   "source": [
    "How I formatted the data:\n",
    "\n",
    "- title\n",
    "- list of characters [charName, Gender, Actor, Age @ Filming]\n",
    "- countries list\n",
    "- release date\n",
    "- genres list\n",
    "- languages list\n",
    "- revenue\n",
    "- runtime, in minutes\n",
    "- summary"
   ]
  },
  {
   "cell_type": "code",
   "execution_count": 3,
   "metadata": {
    "collapsed": false
   },
   "outputs": [
    {
     "data": {
      "text/plain": [
       "{'chars': [['', 'M', 'Erik Estrada', '58'],\n",
       "  ['Nina', 'F', 'Tempestt Bledsoe', '34'],\n",
       "  ['Lola', 'F', 'Nadine Velazquez', '29'],\n",
       "  ['Marco', 'M', 'Mario Lpez', '34'],\n",
       "  ['', 'M', 'Mark Consuelos', '36']],\n",
       " 'countries': ['United States of America'],\n",
       " 'date': '2008-01-24',\n",
       " 'genres': ['Comedy'],\n",
       " 'languages': ['English Language'],\n",
       " 'revenue': '',\n",
       " 'runtime': '90.0',\n",
       " 'summary': \"Lola  attempts to gain her father's trust fund  by hiring a Hispanic husband, Bo , offering him $100,000 per year if he marries her. Bo accepts, and then departs from his Texas home and returns with Lola to her home in New Mexico. Lola finds out he is in fact Caucasian. Lola's best friend, Nina , and Bo's brother  join the trip, as does Bo's girlfriend, Nikki , and her clumsy friend, Dotty , in secret. When introduced to Bo, Lola's father, Victor , refuses to allow them to get married, until Bo convinces him by playing an antique guitar. In the mean time, Lola's ex-fianc, Marco , and his secret girlfriend, Simona , who is also Lola's sister trying to keep her from having the inheritance, plot against Lola in order to gain the trust fund for themselves. Throughout the course of the story, Lola and Bo actually fall for each other. However, after Simona discovers Bo and Lola have a plot of their own, she uses Nikki to ruin the plot. However, before Nikki could do any damage, Victor and Bo get into an argument, which has both Lola and her father kick Bo out. In response, Lola's ex-fianc is able to win back Lola's heart, but Lola only agrees for the money. Later that night, Nikki and Bo discover Simona and Marco's plot and are consequently held prisoner, so they may not warn anyone. However, Nikki's clumsy friend Dotty finds Nikki and Bo, frees them, and Bo is able to warn Lola. Still angry about the previous night, Lola kicks Bo out once more and proceeds to marry for the money. Fortunately for her, she trusts Bo's words and turns the tables on Simona and Marco, and also turns down the money from her father and departs, claiming that money ruined the family long before that day. She does not want the money if it means turning into a selfish and greedy person like her father.  At the end of the film, Bo is working as a bartender, where Lola manages to find him. They reconcile and show their love for each other once again, and they remain together and happy.\",\n",
       " 'title': 'Husband for Hire'}"
      ]
     },
     "execution_count": 3,
     "metadata": {},
     "output_type": "execute_result"
    }
   ],
   "source": [
    "d['15401493']"
   ]
  },
  {
   "cell_type": "code",
   "execution_count": 4,
   "metadata": {
    "collapsed": true
   },
   "outputs": [],
   "source": [
    "ditems = d.items()"
   ]
  },
  {
   "cell_type": "code",
   "execution_count": 13,
   "metadata": {
    "collapsed": false
   },
   "outputs": [],
   "source": [
    "#For looking up my favorite movies...\n",
    "def search_by_title(searchtitle):\n",
    "    return [d for d in ditems if searchtitle in d[1]['title']]\n",
    "    results"
   ]
  },
  {
   "cell_type": "code",
   "execution_count": 26,
   "metadata": {
    "collapsed": false
   },
   "outputs": [
    {
     "data": {
      "text/plain": [
       "('239587',\n",
       " {'chars': [['Bubbles', 'M', 'Stephen Root', '51'],\n",
       "   ['Deb / Flo', 'F', 'Vicki Lewis', '43'],\n",
       "   ['Darla', '', 'LuLu Ebeling', ''],\n",
       "   ['Squirt', 'M', 'Nicholas Bird', '8'],\n",
       "   ['Nigel', 'M', 'Geoffrey Rush', '51'],\n",
       "   ['Fish School', 'M', 'John Ratzenberger', '56'],\n",
       "   ['Gurgle', 'M', 'Austin Pendleton', '63'],\n",
       "   ['Sheldon', 'M', 'Erik Per Sullivan', '11'],\n",
       "   ['Bruce', 'M', 'Barry Humphries', '69'],\n",
       "   ['Gill', 'M', 'Willem Dafoe', '47'],\n",
       "   ['Crush', 'M', 'Andrew Stanton', '37'],\n",
       "   ['Marlin', 'M', 'Albert Brooks', '55'],\n",
       "   ['Mr. Ray', 'M', 'Bob Peterson', '42'],\n",
       "   ['Anchor', 'M', 'Eric Bana', '34'],\n",
       "   ['Chum', 'M', 'Bruce Spence', '57'],\n",
       "   ['Bloat', 'M', 'Brad Garrett', '43'],\n",
       "   ['Coral', 'F', 'Elizabeth Perkins', '42'],\n",
       "   ['Dentist', 'M', 'Bill Hunter', '63'],\n",
       "   ['Tad', '', 'Jordan Ranft', '11'],\n",
       "   ['Peach', 'F', 'Allison Janney', '43'],\n",
       "   ['Pearl', '', 'Erica Beck', '9'],\n",
       "   ['Jacques', 'M', 'Joe Ranft', '43'],\n",
       "   ['Nemo', 'M', 'Alexander Gould', '9'],\n",
       "   ['Dory', 'F', 'Ellen DeGeneres', '45']],\n",
       "  'countries': ['United States of America', 'Australia'],\n",
       "  'date': '2003-05-30',\n",
       "  'genres': ['Adventure',\n",
       "   \"Children's/Family\",\n",
       "   'Computer Animation',\n",
       "   'Animation',\n",
       "   \"Children's\",\n",
       "   'Adventure Comedy',\n",
       "   'Comedy',\n",
       "   'Family Film',\n",
       "   'Family-Oriented Adventure'],\n",
       "  'languages': ['English Language'],\n",
       "  'revenue': '921111197',\n",
       "  'runtime': '100.0',\n",
       "  'summary': 'Two clownfish, Marlin and his wife Coral are admiring their new home in the New Caledonia Barrier Reef and their clutch of eggs that are due to hatch in a few days. Suddenly, a barracuda attacks them, leaving Marlin unconscious before eating Coral and all but one of their eggs. Marlin names this egg Nemo, a name that Coral liked. The film then moves on to Nemo\\'s first day of school. Nemo has a tiny right fin, due to a minor injury to his egg from the barracuda attack, which limits his swimming ability. After Marlin embarrasses Nemo during a school field trip, Nemo disobeys his father and sneaks away from the reef towards a boat, resulting in him being captured by scuba divers. As the boat sails away, one of the divers accidentally knocks his diving mask into the water. While unsuccessfully attempting to save Nemo, Marlin meets Dory, a nave but good-hearted and optimistic Regal blue tang with short-term memory loss. While meeting three sharks on a fish-free diet, Bruce, a great white shark; Anchor, a hammerhead shark; and Chum, a mako shark, Marlin discovers the diver\\'s mask that was dropped from the boat and notices an address written on it. However, when he argues with Dory and accidentally gives her a nosebleed, the scent of blood causes Bruce to lose control of himself and attempt to eat Marlin and Dory. The two escape from Bruce but the mask falls into a trench in the deep sea. During a hazardous struggle with an anglerfish in the trench, Dory realizes she is able to read the address written on the mask, which leads to Sydney, Australia, and manages to remember it. After receiving directions to Sydney from a large school of moonfish, Marlin and Dory accidentally run into a bloom of jellyfish that nearly sting them to death; Marlin falls exhausted after the risky escape and wakes up to see a surf-cultured sea turtle named Crush, who takes Dory and him on the East Australian Current. In the current, Marlin reluctantly shares the details of his journey with a group of young sea turtles; his story spreads rapidly across the ocean through word of mouth and eventually finds Nemo in Sydney. Meanwhile, Nemo\\'s captor - P. Sherman, a dentist - places him into a fish tank in his office on Sydney Harbour. There, Nemo meets a group of aquarium fish called the \"Tank Gang\", led by a crafty and ambitious moorish idol named Gill. The \"Tank Gang\" includes Bloat, a puffer fish; Bubbles, a Yellow Tang; Peach, a starfish; Gurgle, a Royal gramma; Jacques, a pacific cleaner shrimp; and Deb, a Blacktailed Humbug. The fish are frightened to learn that the dentist plans to give Nemo to his niece, Darla. She is infamous for killing a goldfish given to her previously by constantly shaking the bag. In order to avoid this fate, Gill gives Nemo a role in an escape plan, which involves jamming the tank\\'s filter and forcing the dentist to remove the fish from the tank to clean it manually. The fish would be placed in plastic bags, at which point they would roll out the window and into the harbor. After a friendly pelican named Nigel visits with news of Marlin\\'s adventure, Nemo succeeds in jamming the filter, but the plan backfires when the dentist installs a new high-tech filter. Upon leaving the East Australian Current, Marlin and Dory become lost and are engulfed by a whale. Inside the whale\\'s immense mouth, Marlin desperately tries to escape while Dory communicates with it in whale-speak. In response, the whale carries them to Sydney Harbour and expels them through his blowhole. They are met by Nigel, who recognizes Marlin from the stories he has heard and rescues him and Dory from a flock of hungry seagulls by scooping them into his beak and taking them to the dentist\\'s office. By this time, Darla has arrived and the dentist is prepared to give Nemo to her. Nemo tries to play dead in hopes of saving himself, and, at the same time, Nigel arrives. Marlin sees Nemo and mistakes this act for the actual death of his son. Gill helps Nemo escape into a drain through a sink after a chaotic struggle. Overcome with despair, Marlin leaves Dory and begins to swim back home. Dory then loses her memory and becomes confused, but meets Nemo, who has reached the ocean through an underwater drainpipe. Dory\\'s memory is restored after she reads the word \"Sydney\" on a nearby drainpipe and, remembering her journey, she guides Nemo to Marlin. After the two joyfully reunite, Dory is caught in a fishing net with a school of grouper. Nemo bravely enters the net and directs the group to swim downward to break the net, reminiscent of a similar scenario that occurred in the fish tank earlier. The fish, including Dory, succeed in breaking the net and escape. After some days, Nemo leaves for school once more and Marlin who is no longer overprotective or doubtful of his son\\'s safety, proudly watches Nemo swim away into the distance. Back at the dentist\\'s office, the high-tech filter breaks down and The Tank Gang have escaped into the harbor. However, they realize that they are confined to the bags of water that the dentist put them into when cleaning the tank.',\n",
       "  'title': 'Finding Nemo'})"
      ]
     },
     "execution_count": 26,
     "metadata": {},
     "output_type": "execute_result"
    }
   ],
   "source": [
    "search_by_title(\"Finding Nemo\")[0]"
   ]
  },
  {
   "cell_type": "markdown",
   "metadata": {},
   "source": [
    "## Language representation across all films"
   ]
  },
  {
   "cell_type": "code",
   "execution_count": 28,
   "metadata": {
    "collapsed": false
   },
   "outputs": [],
   "source": [
    "languages = [item[1]['languages'] for item in ditems]"
   ]
  },
  {
   "cell_type": "code",
   "execution_count": 32,
   "metadata": {
    "collapsed": false
   },
   "outputs": [],
   "source": [
    "ls = [item for sublist in languages for item in sublist]"
   ]
  },
  {
   "cell_type": "code",
   "execution_count": 33,
   "metadata": {
    "collapsed": false
   },
   "outputs": [
    {
     "data": {
      "text/plain": [
       "['Italian Language',\n",
       " 'Tamil Language',\n",
       " 'Italian Language',\n",
       " 'Italian Language',\n",
       " 'English Language',\n",
       " 'English Language',\n",
       " 'Tamil Language',\n",
       " 'Japanese Language',\n",
       " 'English Language',\n",
       " 'German Language']"
      ]
     },
     "execution_count": 33,
     "metadata": {},
     "output_type": "execute_result"
    }
   ],
   "source": [
    "ls[:10]"
   ]
  },
  {
   "cell_type": "code",
   "execution_count": 38,
   "metadata": {
    "collapsed": false
   },
   "outputs": [
    {
     "data": {
      "text/plain": [
       "[('English Language', 40891),\n",
       " ('Hindi Language', 3744),\n",
       " ('Spanish Language', 3673),\n",
       " ('French Language', 3422),\n",
       " ('Silent film', 3183),\n",
       " ('Italian Language', 2531),\n",
       " ('Japanese Language', 2295),\n",
       " ('German Language', 2258),\n",
       " ('Tamil Language', 1896),\n",
       " ('Malayalam Language', 1448),\n",
       " ('Standard Mandarin', 1213),\n",
       " ('Telugu language', 1197),\n",
       " ('Russian Language', 1024),\n",
       " ('Cantonese', 876),\n",
       " ('Korean Language', 779),\n",
       " ('Dutch Language', 597),\n",
       " ('Swedish Language', 509),\n",
       " ('Arabic Language', 499),\n",
       " ('Standard Cantonese', 481),\n",
       " ('Czech Language', 478),\n",
       " ('Bengali Language', 457),\n",
       " ('Danish Language', 442),\n",
       " ('Portuguese Language', 398),\n",
       " ('Polish Language', 370),\n",
       " ('Urdu Language', 359),\n",
       " ('Tagalog language', 351),\n",
       " ('Kannada Language', 329),\n",
       " ('Mandarin Chinese', 325),\n",
       " ('Serbian language', 310),\n",
       " ('Hebrew Language', 266),\n",
       " ('Hungarian language', 241),\n",
       " ('Thai Language', 219),\n",
       " ('Persian Language', 209),\n",
       " ('Norwegian Language', 208),\n",
       " ('Turkish Language', 194),\n",
       " ('Greek Language', 187),\n",
       " ('Filipino language', 177),\n",
       " ('Punjabi language', 177),\n",
       " ('Finnish Language', 172),\n",
       " ('Chinese language', 129)]"
      ]
     },
     "execution_count": 38,
     "metadata": {},
     "output_type": "execute_result"
    }
   ],
   "source": [
    "counts = Counter(ls)\n",
    "counts.most_common(40)"
   ]
  },
  {
   "cell_type": "markdown",
   "metadata": {},
   "source": [
    "## Genre representation across all films "
   ]
  },
  {
   "cell_type": "code",
   "execution_count": 39,
   "metadata": {
    "collapsed": true
   },
   "outputs": [],
   "source": [
    "genres = [item[1]['genres'] for item in ditems]\n",
    "gs = [item for sublist in genres for item in sublist]"
   ]
  },
  {
   "cell_type": "code",
   "execution_count": 46,
   "metadata": {
    "collapsed": false
   },
   "outputs": [
    {
     "data": {
      "text/plain": [
       "[('Drama', 34007),\n",
       " ('Comedy', 16349),\n",
       " ('Romance Film', 10234),\n",
       " ('Black-and-white', 9094),\n",
       " ('Action', 8798),\n",
       " ('Thriller', 8744),\n",
       " ('Short Film', 8141),\n",
       " ('World cinema', 7155),\n",
       " ('Crime Fiction', 6948),\n",
       " ('Indie', 6897),\n",
       " ('Documentary', 5630),\n",
       " ('Horror', 5280),\n",
       " ('Silent film', 5250),\n",
       " ('Adventure', 4963),\n",
       " ('Family Film', 4598),\n",
       " ('Action/Adventure', 4561),\n",
       " ('Comedy film', 4362),\n",
       " ('Musical', 4160),\n",
       " ('Animation', 3534),\n",
       " ('Romantic drama', 3372),\n",
       " ('Mystery', 3195),\n",
       " ('Science Fiction', 3052),\n",
       " ('Fantasy', 2820),\n",
       " ('Romantic comedy', 2680),\n",
       " ('War film', 2652),\n",
       " ('Japanese Movies', 2322),\n",
       " ('Western', 2226),\n",
       " ('Crime Thriller', 2122),\n",
       " ('Period piece', 1758),\n",
       " ('Comedy-drama', 1720),\n",
       " ('Film adaptation', 1531),\n",
       " ('Chinese Movies', 1525),\n",
       " ('Biography', 1392),\n",
       " ('Psychological thriller', 1331),\n",
       " ('Bollywood', 1321),\n",
       " ('Sports', 1206),\n",
       " ('Biographical film', 1198),\n",
       " ('LGBT', 1163),\n",
       " ('Music', 1088),\n",
       " ('Family Drama', 1043)]"
      ]
     },
     "execution_count": 46,
     "metadata": {},
     "output_type": "execute_result"
    }
   ],
   "source": [
    "gcounts = Counter(gs)\n",
    "gcounts.most_common(40)"
   ]
  },
  {
   "cell_type": "markdown",
   "metadata": {},
   "source": [
    "### A Look at LGBT Films"
   ]
  },
  {
   "cell_type": "code",
   "execution_count": 49,
   "metadata": {
    "collapsed": true
   },
   "outputs": [],
   "source": [
    "lgbt = [f for f in ditems if 'LGBT' in f[1]['genres']]"
   ]
  },
  {
   "cell_type": "code",
   "execution_count": 50,
   "metadata": {
    "collapsed": false
   },
   "outputs": [
    {
     "data": {
      "text/plain": [
       "1163"
      ]
     },
     "execution_count": 50,
     "metadata": {},
     "output_type": "execute_result"
    }
   ],
   "source": [
    "len(lgbt)"
   ]
  },
  {
   "cell_type": "code",
   "execution_count": 53,
   "metadata": {
    "collapsed": false
   },
   "outputs": [],
   "source": [
    "#plot release dates\n",
    "dates = [item[1]['date'] for item in lgbt]"
   ]
  },
  {
   "cell_type": "code",
   "execution_count": 58,
   "metadata": {
    "collapsed": false
   },
   "outputs": [],
   "source": [
    "def getDates(subset):\n",
    "    dates = [item[1]['date'] for item in subset]\n",
    "    cleandates = []\n",
    "    for d in dates:\n",
    "        if d!=\"\":\n",
    "            cleandates.append(d[:4])\n",
    "    dts = Counter(cleandates)"
   ]
  },
  {
   "cell_type": "code",
   "execution_count": 67,
   "metadata": {
    "collapsed": false
   },
   "outputs": [
    {
     "data": {
      "text/plain": [
       "Counter({'1912': 1,\n",
       "         '1914': 1,\n",
       "         '1916': 1,\n",
       "         '1919': 1,\n",
       "         '1924': 1,\n",
       "         '1928': 1,\n",
       "         '1929': 1,\n",
       "         '1930': 1,\n",
       "         '1931': 1,\n",
       "         '1933': 1,\n",
       "         '1935': 1,\n",
       "         '1941': 1,\n",
       "         '1944': 1,\n",
       "         '1947': 2,\n",
       "         '1948': 1,\n",
       "         '1950': 2,\n",
       "         '1951': 1,\n",
       "         '1953': 1,\n",
       "         '1956': 2,\n",
       "         '1958': 2,\n",
       "         '1961': 3,\n",
       "         '1962': 2,\n",
       "         '1963': 2,\n",
       "         '1964': 5,\n",
       "         '1965': 2,\n",
       "         '1966': 3,\n",
       "         '1967': 2,\n",
       "         '1968': 8,\n",
       "         '1969': 5,\n",
       "         '1970': 7,\n",
       "         '1971': 5,\n",
       "         '1972': 4,\n",
       "         '1973': 3,\n",
       "         '1974': 3,\n",
       "         '1975': 6,\n",
       "         '1976': 6,\n",
       "         '1977': 5,\n",
       "         '1978': 7,\n",
       "         '1979': 5,\n",
       "         '1980': 9,\n",
       "         '1981': 4,\n",
       "         '1982': 12,\n",
       "         '1983': 12,\n",
       "         '1984': 8,\n",
       "         '1985': 13,\n",
       "         '1986': 8,\n",
       "         '1987': 11,\n",
       "         '1988': 7,\n",
       "         '1989': 8,\n",
       "         '1990': 6,\n",
       "         '1991': 16,\n",
       "         '1992': 16,\n",
       "         '1993': 17,\n",
       "         '1994': 30,\n",
       "         '1995': 36,\n",
       "         '1996': 31,\n",
       "         '1997': 41,\n",
       "         '1998': 47,\n",
       "         '1999': 34,\n",
       "         '2000': 49,\n",
       "         '2001': 43,\n",
       "         '2002': 49,\n",
       "         '2003': 58,\n",
       "         '2004': 81,\n",
       "         '2005': 71,\n",
       "         '2006': 77,\n",
       "         '2007': 66,\n",
       "         '2008': 51,\n",
       "         '2009': 64,\n",
       "         '2010': 37,\n",
       "         '2011': 21,\n",
       "         '2012': 6})"
      ]
     },
     "execution_count": 67,
     "metadata": {},
     "output_type": "execute_result"
    }
   ],
   "source": [
    "dts"
   ]
  },
  {
   "cell_type": "code",
   "execution_count": 72,
   "metadata": {
    "collapsed": false
   },
   "outputs": [],
   "source": [
    "lgbt_dates = pd.DataFrame.from_dict(dts, orient='index').reset_index()\n",
    "lgbt_dates.columns = [\"year\", \"count\"]"
   ]
  },
  {
   "cell_type": "code",
   "execution_count": 79,
   "metadata": {
    "collapsed": false
   },
   "outputs": [
    {
     "data": {
      "image/png": "[encoded data removed]",
      "text/plain": [
       "<matplotlib.figure.Figure at 0x12fd1e9d0>"
      ]
     },
     "metadata": {},
     "output_type": "display_data"
    }
   ],
   "source": [
    "plt.figure(figsize=(20,10))\n",
    "ax = sns.pointplot(x=\"year\", y=\"count\", data=lgbt_dates)"
   ]
  },
  {
   "cell_type": "code",
   "execution_count": null,
   "metadata": {
    "collapsed": true
   },
   "outputs": [],
   "source": []
  }
 ],
 "metadata": {
  "kernelspec": {
   "display_name": "Python 2",
   "language": "python",
   "name": "python2"
  },
  "language_info": {
   "codemirror_mode": {
    "name": "ipython",
    "version": 2
   },
   "file_extension": ".py",
   "mimetype": "text/x-python",
   "name": "python",
   "nbconvert_exporter": "python",
   "pygments_lexer": "ipython2",
   "version": "2.7.10"
  }
 },
 "nbformat": 4,
 "nbformat_minor": 0
}
